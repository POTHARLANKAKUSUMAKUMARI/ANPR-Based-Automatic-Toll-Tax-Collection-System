{
  "nbformat": 4,
  "nbformat_minor": 0,
  "metadata": {
    "colab": {
      "provenance": [],
      "authorship_tag": "ABX9TyOMGdDOtINpPYdkkyRtfjWr",
      "include_colab_link": true
    },
    "kernelspec": {
      "name": "python3",
      "display_name": "Python 3"
    },
    "language_info": {
      "name": "python"
    }
  },
  "cells": [
    {
      "cell_type": "markdown",
      "metadata": {
        "id": "view-in-github",
        "colab_type": "text"
      },
      "source": [
        "<a href=\"https://colab.research.google.com/github/POTHARLANKAKUSUMAKUMARI/ANPR-Based-Automatic-Toll-Tax-Collection-System/blob/main/QR.ipynb\" target=\"_parent\"><img src=\"https://colab.research.google.com/assets/colab-badge.svg\" alt=\"Open In Colab\"/></a>"
      ]
    },
    {
      "cell_type": "code",
      "execution_count": 1,
      "metadata": {
        "colab": {
          "base_uri": "https://localhost:8080/"
        },
        "id": "uEiXHCYil4Eq",
        "outputId": "d9991741-2a6a-4df4-eee9-effbe304754e"
      },
      "outputs": [
        {
          "output_type": "stream",
          "name": "stdout",
          "text": [
            "Collecting qrcode[pil]\n",
            "  Downloading qrcode-7.4.2-py3-none-any.whl.metadata (17 kB)\n",
            "Requirement already satisfied: typing-extensions in /usr/local/lib/python3.10/dist-packages (from qrcode[pil]) (4.12.2)\n",
            "Collecting pypng (from qrcode[pil])\n",
            "  Downloading pypng-0.20220715.0-py3-none-any.whl.metadata (13 kB)\n",
            "Requirement already satisfied: pillow>=9.1.0 in /usr/local/lib/python3.10/dist-packages (from qrcode[pil]) (9.4.0)\n",
            "Downloading pypng-0.20220715.0-py3-none-any.whl (58 kB)\n",
            "\u001b[2K   \u001b[90m━━━━━━━━━━━━━━━━━━━━━━━━━━━━━━━━━━━━━━━━\u001b[0m \u001b[32m58.1/58.1 kB\u001b[0m \u001b[31m3.7 MB/s\u001b[0m eta \u001b[36m0:00:00\u001b[0m\n",
            "\u001b[?25hDownloading qrcode-7.4.2-py3-none-any.whl (46 kB)\n",
            "\u001b[2K   \u001b[90m━━━━━━━━━━━━━━━━━━━━━━━━━━━━━━━━━━━━━━━━\u001b[0m \u001b[32m46.2/46.2 kB\u001b[0m \u001b[31m3.1 MB/s\u001b[0m eta \u001b[36m0:00:00\u001b[0m\n",
            "\u001b[?25hInstalling collected packages: pypng, qrcode\n",
            "Successfully installed pypng-0.20220715.0 qrcode-7.4.2\n"
          ]
        }
      ],
      "source": [
        "!pip install qrcode[pil]\n"
      ]
    },
    {
      "cell_type": "code",
      "source": [
        "import qrcode\n",
        "\n",
        "# Create an instance of QRCode\n",
        "qr = qrcode.QRCode(\n",
        "    version=15,\n",
        "    box_size=5,\n",
        "    border=2\n",
        ")\n",
        "\n",
        "# Add data to the QR code\n",
        "data = \"https://www.instagram.com/p/C9Fr97syNFGKuGNpFyNpsN8buUv9kxGQZLZ2Vo0/?img_index=3\"\n",
        "qr.add_data(data)\n",
        "qr.make(fit=True)\n",
        "\n",
        "# Create the image\n",
        "img = qr.make_image(fill=\"black\", back_color=\"white\")\n",
        "\n",
        "# Save the image to a file\n",
        "img.save('test.png')\n",
        "\n",
        "# Display the image in the notebook\n",
        "from IPython.display import Image\n",
        "Image('test.png')\n"
      ],
      "metadata": {
        "colab": {
          "base_uri": "https://localhost:8080/",
          "height": 422
        },
        "id": "Q_C1exW-mE0x",
        "outputId": "a688dcfe-459c-45c0-c65a-263f90b1b7c6"
      },
      "execution_count": 6,
      "outputs": [
        {
          "output_type": "execute_result",
          "data": {
            "image/png": "[encoded data removed]",
            "text/plain": [
              "<IPython.core.display.Image object>"
            ]
          },
          "metadata": {},
          "execution_count": 6
        }
      ]
    }
  ]
}